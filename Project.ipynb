{
 "cells": [
  {
   "cell_type": "code",
   "execution_count": 9,
   "metadata": {},
   "outputs": [
    {
     "name": "stdout",
     "output_type": "stream",
     "text": [
      "M = 0 C = 0 |--------------- -B| M = 3 C = 0\n"
     ]
    },
    {
     "ename": "ValueError",
     "evalue": "invalid literal for int() with base 10: ''",
     "output_type": "error",
     "traceback": [
      "\u001b[1;31m---------------------------------------------------------------------------\u001b[0m",
      "\u001b[1;31mValueError\u001b[0m                                Traceback (most recent call last)",
      "\u001b[1;32m~\\AppData\\Local\\Temp\\ipykernel_18368\\3472740840.py\u001b[0m in \u001b[0;36m<module>\u001b[1;34m\u001b[0m\n\u001b[0;32m      8\u001b[0m \u001b[1;33m\u001b[0m\u001b[0m\n\u001b[0;32m      9\u001b[0m \u001b[1;32mwhile\u001b[0m \u001b[1;32mTrue\u001b[0m\u001b[1;33m:\u001b[0m\u001b[1;33m\u001b[0m\u001b[0m\n\u001b[1;32m---> 10\u001b[1;33m     \u001b[0mmissionaries\u001b[0m \u001b[1;33m=\u001b[0m \u001b[0mint\u001b[0m\u001b[1;33m(\u001b[0m\u001b[0minput\u001b[0m\u001b[1;33m(\u001b[0m\u001b[1;34m\"No of missionaries or enter 10 to quit : \"\u001b[0m\u001b[1;33m)\u001b[0m\u001b[1;33m)\u001b[0m\u001b[1;33m\u001b[0m\u001b[0m\n\u001b[0m\u001b[0;32m     11\u001b[0m     \u001b[1;32mif\u001b[0m \u001b[0mmissionaries\u001b[0m \u001b[1;33m==\u001b[0m \u001b[1;36m10\u001b[0m\u001b[1;33m:\u001b[0m\u001b[1;33m\u001b[0m\u001b[0m\n\u001b[0;32m     12\u001b[0m         \u001b[0mprint\u001b[0m\u001b[1;33m(\u001b[0m\u001b[1;34m'You Quit, Game Over'\u001b[0m\u001b[1;33m)\u001b[0m\u001b[1;33m\u001b[0m\u001b[0m\n",
      "\u001b[1;31mValueError\u001b[0m: invalid literal for int() with base 10: ''"
     ]
    }
   ],
   "source": [
    "boat_side = 'Right'\n",
    "missionaries_right = 3\n",
    "cannibals_right = 3\n",
    "missionaries_left = 0\n",
    "cannibals_left = 0\n",
    "\n",
    "print( 'M =',missionaries_left, 'C =',cannibals_left, '|--------------- -B|', 'M =',missionaries_right, 'C =',cannibals_left )\n",
    "\n",
    "while True:\n",
    "    missionaries = int(input(\"No of missionaries or enter 10 to quit : \"))\n",
    "    if missionaries == 10:\n",
    "        print('You Quit, Game Over')\n",
    "        break\n",
    "    cannibals = int(input(\"No of cannibals : \"))\n",
    "    \n",
    "    if(missionaries + cannibals )!= 1 and (missionaries +cannibals)!=2:\n",
    "        print(\"Invalid Mode\")\n",
    "        continue\n",
    "    \n",
    "    if boat_side == 'Right':\n",
    "        if missionaries_right<missionaries or cannibals_right < cannibals:\n",
    "            print(\"Invalid Mode\")\n",
    "        \n",
    "        missionaries_right = missionaries_right - missionaries\n",
    "        cannibals_right = cannibals_right - cannibals\n",
    "        \n",
    "        missionaries_left = missionaries_left + missionaries\n",
    "        cannibals_left = cannibals_left + cannibals\n",
    "        \n",
    "        print( 'M =',missionaries_left, 'C =',cannibals_left, '|B- ---------------|', 'M =',missionaries_right, 'C =',cannibals_left )\n",
    "        \n",
    "        boat_side = 'Left'\n",
    "        \n",
    "    else:\n",
    "        if missionaries_left<missionaries or cannibals_left < cannibals:\n",
    "            print(\"Invalid Mode\")\n",
    "        \n",
    "        missionaries_left = missionaries_left - missionaries\n",
    "        cannibals_left = cannibals_left - cannibals\n",
    "            \n",
    "        missionaries_right = missionaries_right + missionaries\n",
    "        cannibals_right = cannibals_right + cannibals\n",
    "            \n",
    "        print( 'M =',missionaries_left, 'C =',cannibals_left, '|--------------- -B|', 'M =',missionaries_right, 'C =',cannibals_left )\n",
    "        \n",
    "        boat_side = 'Right'\n",
    "\n",
    "    if (missionaries_right < cannibals_right and missionaries_right > 0) or (missionaries_left < cannibals_left and missionaries_left > 0):\n",
    "        print('You Loose')\n",
    "        break\n",
    "\n",
    "    if(missionaries_left == 3 and cannibals_left == 3):\n",
    "        print('You win')\n",
    "        break"
   ]
  }
 ],
 "metadata": {
  "kernelspec": {
   "display_name": "Python 3",
   "language": "python",
   "name": "python3"
  },
  "language_info": {
   "codemirror_mode": {
    "name": "ipython",
    "version": 3
   },
   "file_extension": ".py",
   "mimetype": "text/x-python",
   "name": "python",
   "nbconvert_exporter": "python",
   "pygments_lexer": "ipython3",
   "version": "3.7.0"
  }
 },
 "nbformat": 4,
 "nbformat_minor": 2
}
